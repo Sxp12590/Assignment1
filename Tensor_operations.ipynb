{
  "nbformat": 4,
  "nbformat_minor": 0,
  "metadata": {
    "colab": {
      "provenance": []
    },
    "kernelspec": {
      "name": "python3",
      "display_name": "Python 3"
    },
    "language_info": {
      "name": "python"
    }
  },
  "cells": [
    {
      "cell_type": "code",
      "execution_count": null,
      "metadata": {
        "colab": {
          "base_uri": "https://localhost:8080/"
        },
        "id": "80n9oDE9TmuP",
        "outputId": "f78d1d34-9b93-4ca3-81aa-d1c19e6136a2"
      },
      "outputs": [
        {
          "output_type": "stream",
          "name": "stdout",
          "text": [
            "Tensor of shape(4,6)\n",
            "[[5 1 3 3 4 3]\n",
            " [1 7 7 4 7 0]\n",
            " [2 7 9 4 5 2]\n",
            " [7 8 3 0 9 2]]\n",
            "Tensor Rank: 2, Shape: [4 6]\n",
            "Reshaped Tensor Shape: (2, 3, 4)\n",
            "Reshaped Tensor:\n",
            "[[[5 1 3 3]\n",
            "  [4 3 1 7]\n",
            "  [7 4 7 0]]\n",
            "\n",
            " [[2 7 9 4]\n",
            "  [5 2 7 8]\n",
            "  [3 0 9 2]]]\n",
            "Transposed Tensor Shape: (3, 2, 4)\n",
            "Transposed Tensor:\n",
            "[[[5 1 3 3]\n",
            "  [2 7 9 4]]\n",
            "\n",
            " [[4 3 1 7]\n",
            "  [5 2 7 8]]\n",
            "\n",
            " [[7 4 7 0]\n",
            "  [3 0 9 2]]]\n",
            "Small Tensor:\n",
            "[[8 6 4 0]]\n",
            "Broadcasted Sum:\n",
            "[[[13  7  7  3]\n",
            "  [10 13 13  4]]\n",
            "\n",
            " [[12  9  5  7]\n",
            "  [13  8 11  8]]\n",
            "\n",
            " [[15 10 11  0]\n",
            "  [11  6 13  2]]]\n"
          ]
        }
      ],
      "source": [
        "import tensorflow as tf\n",
        "\n",
        "# Step 1: Create a random tensor of shape (4, 6)\n",
        "t1 = tf.random.uniform(shape=(4, 6),  minval=0, maxval=10, dtype=tf.int64)\n",
        "print(\"Tensor of shape(4,6)\")\n",
        "print(t1.numpy())\n",
        "\n",
        "# Step 2: Find rank and shape\n",
        "t1_rank = tf.rank(t1)\n",
        "t1_shape = tf.shape(t1)\n",
        "print(f\"Tensor Rank: {t1_rank.numpy()}, Shape: {t1_shape.numpy()}\")\n",
        "\n",
        "# Step 3: Reshape it into (2, 3, 4) and transpose it to (3, 2, 4)\n",
        "t2 = tf.reshape(t1, (2, 3, 4))\n",
        "print(f\"Reshaped Tensor Shape: {t2.shape}\")\n",
        "print(\"Reshaped Tensor:\")\n",
        "print(t2.numpy())\n",
        "\n",
        "t3 = tf.transpose(t2, perm=[1, 0, 2])\n",
        "\n",
        "print(f\"Transposed Tensor Shape: {t3.shape}\")\n",
        "print(\"Transposed Tensor:\")\n",
        "print(t3.numpy())\n",
        "\n",
        "# Step 4: Broadcast a smaller tensor (1, 4) and add to the larger tensor\n",
        "t4 = tf.random.uniform(shape=(1, 4),  minval=0, maxval=10, dtype=tf.int64)\n",
        "print(\"Small Tensor:\")\n",
        "print(t4.numpy())\n",
        "\n",
        "broadcasted_sum = t3 + t4\n",
        "print(\"Broadcasted Sum:\")\n",
        "print(broadcasted_sum.numpy())"
      ]
    }
  ]
}